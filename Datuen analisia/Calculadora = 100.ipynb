{
 "cells": [
  {
   "cell_type": "code",
   "execution_count": 1,
   "id": "849b59d4-d1e5-445d-84fe-f9600d988fd3",
   "metadata": {
    "tags": []
   },
   "outputs": [],
   "source": [
    "import tkinter as tk\n",
    "from tkinter import ttk\n",
    "\n",
    "def actualizar_suma(*args):\n",
    "    try:\n",
    "        # Obtener los valores de las casillas y asignar 0 si están vacías\n",
    "        valor_casilla1 = int(casilla1.get()) if casilla1.get() else 0\n",
    "        valor_casilla2 = int(casilla2.get()) if casilla2.get() else 0\n",
    "        valor_casilla3 = int(casilla3.get()) if casilla3.get() else 0\n",
    "        valor_casilla4 = int(casilla4.get()) if casilla4.get() else 0\n",
    "        valor_casilla5 = int(casilla5.get()) if casilla5.get() else 0\n",
    "\n",
    "        # Calcular el valor de Casilla6 para que la suma sea 100\n",
    "        valor_casilla6 = 100 - (valor_casilla1 + valor_casilla2 + valor_casilla3 + valor_casilla4 + valor_casilla5)\n",
    "\n",
    "        # Actualizar el texto en la etiqueta de la suma\n",
    "        etiqueta_suma.config(text=f\"{valor_casilla1} + {valor_casilla2} + {valor_casilla3} + {valor_casilla4} + {valor_casilla5} + {valor_casilla6} = 100\")\n",
    "\n",
    "    except ValueError:\n",
    "        etiqueta_suma.config(text=\"¡Error! Introduce solo números\")\n",
    "\n",
    "# Crear la ventana principal\n",
    "ventana = tk.Tk()\n",
    "ventana.title(\"Calculadora de Suma\")\n",
    "ventana.geometry(\"400x150\")  # Establecer tamaño de la ventana\n",
    "\n",
    "# Crear las casillas de entrada\n",
    "casilla1 = tk.StringVar()\n",
    "casilla2 = tk.StringVar()\n",
    "casilla3 = tk.StringVar()\n",
    "casilla4 = tk.StringVar()\n",
    "casilla5 = tk.StringVar()\n",
    "\n",
    "casilla1.trace_add(\"write\", actualizar_suma)\n",
    "casilla2.trace_add(\"write\", actualizar_suma)\n",
    "casilla3.trace_add(\"write\", actualizar_suma)\n",
    "casilla4.trace_add(\"write\", actualizar_suma)\n",
    "casilla5.trace_add(\"write\", actualizar_suma)\n",
    "\n",
    "entrada1 = ttk.Entry(ventana, textvariable=casilla1, width=5, font=(\"Arial\", 12))\n",
    "entrada2 = ttk.Entry(ventana, textvariable=casilla2, width=5, font=(\"Arial\", 12))\n",
    "entrada3 = ttk.Entry(ventana, textvariable=casilla3, width=5, font=(\"Arial\", 12))\n",
    "entrada4 = ttk.Entry(ventana, textvariable=casilla4, width=5, font=(\"Arial\", 12))\n",
    "entrada5 = ttk.Entry(ventana, textvariable=casilla5, width=5, font=(\"Arial\", 12))\n",
    "\n",
    "# Colocar las casillas en la ventana\n",
    "entrada1.grid(row=0, column=0, padx=5, pady=10)\n",
    "entrada2.grid(row=0, column=1, padx=5, pady=10)\n",
    "entrada3.grid(row=0, column=2, padx=5, pady=10)\n",
    "entrada4.grid(row=0, column=3, padx=5, pady=10)\n",
    "entrada5.grid(row=0, column=4, padx=5, pady=10)\n",
    "\n",
    "# Etiqueta de la suma\n",
    "etiqueta_suma = ttk.Label(ventana, text=\"\", font=(\"Arial\", 14))\n",
    "etiqueta_suma.grid(row=1, column=0, columnspan=5, pady=20)\n",
    "\n",
    "# Iniciar el bucle principal\n",
    "ventana.mainloop()\n"
   ]
  },
  {
   "cell_type": "code",
   "execution_count": null,
   "id": "5eb5b8c1-0b83-4e1b-b504-099df39eb7a7",
   "metadata": {},
   "outputs": [],
   "source": []
  }
 ],
 "metadata": {
  "kernelspec": {
   "display_name": "Python 3 (ipykernel)",
   "language": "python",
   "name": "python3"
  },
  "language_info": {
   "codemirror_mode": {
    "name": "ipython",
    "version": 3
   },
   "file_extension": ".py",
   "mimetype": "text/x-python",
   "name": "python",
   "nbconvert_exporter": "python",
   "pygments_lexer": "ipython3",
   "version": "3.11.5"
  }
 },
 "nbformat": 4,
 "nbformat_minor": 5
}

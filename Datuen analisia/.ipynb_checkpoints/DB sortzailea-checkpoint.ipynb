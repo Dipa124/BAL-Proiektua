{
 "cells": [
  {
   "cell_type": "code",
   "execution_count": null,
   "id": "6481fd4c-2488-46bf-bcec-2b7dce9c7b8c",
   "metadata": {},
   "outputs": [],
   "source": [
    "pip install odfpy"
   ]
  },
  {
   "cell_type": "code",
   "execution_count": 2,
   "id": "d2c649a9-3113-49d9-9b75-441c2dd8174d",
   "metadata": {
    "tags": []
   },
   "outputs": [],
   "source": [
    "import random as r\n",
    "import pandas as pd"
   ]
  },
  {
   "cell_type": "code",
   "execution_count": null,
   "id": "59b25355-c22d-4fa2-ae07-07b3a0a1e406",
   "metadata": {},
   "outputs": [],
   "source": [
    "datuak = {\n",
    "    \"LEVEL\":[level],\n",
    "    \"MAX GRADE\":[max_grade], \n",
    "    \"AVG GRADE\":[avg_grade],  \n",
    "    \"HEIGHT\":[height], \n",
    "    \"WEIGHT\":[weight],\n",
    "    \"SEXUA\":[gender],\n",
    "    \"ADINA\":[age], \n",
    "    \"DENBORA\":[time], \n",
    "    \"ESTILOA\":[style], \n",
    "    \"HOLD\":[hold]}"
   ]
  },
  {
   "cell_type": "code",
   "execution_count": 3,
   "id": "df5106b6-ed9e-42ed-9646-a7e072336432",
   "metadata": {
    "tags": []
   },
   "outputs": [],
   "source": [
    "def Sexua():\n",
    "    probabilitatea = r.randint(1, 10)\n",
    "    if probabilitatea <= 6:\n",
    "        return \"Gizona\"\n",
    "    elif probabilitatea >= 7:\n",
    "        return \"Emakumea\"\n",
    "sexua = Sexua()"
   ]
  },
  {
   "cell_type": "code",
   "execution_count": 4,
   "id": "c77377db-dc31-49e2-9bdb-79cdb1f12f61",
   "metadata": {
    "tags": []
   },
   "outputs": [],
   "source": [
    "izenak = r\"C:\\Users\\dipas\\Desktop\\Python\\Personal projects\\Data analytics\\BAL proiektua\\Izenak.ods\"\n",
    "izenak_giz = pd.read_excel(izenak)[\"GIZONAK\"].tolist()\n",
    "izenak_ema = pd.read_excel(izenak)[\"EMAKUMEAK\"].tolist()\n",
    "def Izena(sexua):\n",
    "    if sexua == \"Gizona\":\n",
    "        return r.choice(izenak_giz)\n",
    "    elif sexua == \"Emakumea\":\n",
    "        return r.choice(izenak_ema)\n",
    "\n",
    "izena = Izena(sexua)"
   ]
  },
  {
   "cell_type": "code",
   "execution_count": 5,
   "id": "72542424-588e-4431-812e-1b8c4813e592",
   "metadata": {
    "tags": []
   },
   "outputs": [],
   "source": [
    "abizenak = pd.read_excel(r\"C:\\Users\\dipas\\Desktop\\Python\\Personal projects\\Data analytics\\BAL proiektua\\Abizenak.ods\")[\"ABIZENAK\"].tolist()\n",
    "def Abizena():\n",
    "    return r.choice(abizenak)\n",
    "\n",
    "abizena = Abizena()"
   ]
  },
  {
   "cell_type": "code",
   "execution_count": 6,
   "id": "0c587fbd-0992-42b8-8af7-d4fcc195f581",
   "metadata": {
    "tags": []
   },
   "outputs": [],
   "source": [
    "def Adina():\n",
    "    probabilitatea = r.randint(1, 10)\n",
    "    if probabilitatea <= 3:\n",
    "        return [r.randint(14, 20), \"Nerabea\"]\n",
    "    elif probabilitatea <= 7:\n",
    "        return [r.randint(21, 35), \"Gaztea\"]\n",
    "    elif probabilitatea >= 8:\n",
    "        return [r.randint(36, 55), \"Heldua\"]\n",
    "\n",
    "adina, adin_tartea = Adina()"
   ]
  },
  {
   "cell_type": "code",
   "execution_count": 294,
   "id": "8bae7b63-017b-4f7d-b55d-83df64a6b296",
   "metadata": {
    "tags": []
   },
   "outputs": [],
   "source": [
    "def Eskarmentua(adina):\n",
    "    probabilitatea = r.randint(1, 10)\n",
    "    if probabilitatea <= 4:\n",
    "        if adina <= 18:\n",
    "            return r.randint(6, adina-8)\n",
    "        elif adina <= 20:\n",
    "            return r.randint(6, adina-10)\n",
    "        elif adina > 20:\n",
    "            return r.randint(6, 10)\n",
    "    elif probabilitatea <= 9:\n",
    "        return r.randint(0, 5)\n",
    "    elif probabilitatea == 10:\n",
    "        if adina <= 18:\n",
    "            return r.randint(11, adina-3)\n",
    "        elif adina <= 20:\n",
    "            return r.randint(6, adina-8)\n",
    "        elif adina > 20:\n",
    "            return r.randint(11, adina-4)\n",
    "\n",
    "eskarmentua = Eskarmentua(adina)"
   ]
  },
  {
   "cell_type": "code",
   "execution_count": 321,
   "id": "57a8b85e-3033-4e83-af99-c883e83edac1",
   "metadata": {
    "tags": []
   },
   "outputs": [],
   "source": [
    "def Altuera(sexua, adin_tartea):\n",
    "    probabilitatea = r.randint(1, 10)\n",
    "    if sexua == \"Gizona\":\n",
    "        if adin_tartea == \"Nerabea\":\n",
    "            if probabilitatea <= 2:\n",
    "                return r.randint(160, 165)\n",
    "            elif probabilitatea <= 8:\n",
    "                return r.randint(165, 175)\n",
    "            elif probabilitatea <= 10:\n",
    "                return r.randint(175, 185)\n",
    "        elif adin_tartea == \"Gaztea\":\n",
    "            if probabilitatea <= 2:\n",
    "                return r.randint(160, 170)\n",
    "            elif probabilitatea <= 8:\n",
    "                return r.randint(170, 185)\n",
    "            elif probabilitatea <= 10:\n",
    "                return r.randint(186, 195)\n",
    "        elif adin_tartea == \"Heldua\":\n",
    "            if probabilitatea <= 2:\n",
    "                return r.randint(160, 170)\n",
    "            elif probabilitatea <= 8:\n",
    "                return r.randint(170, 180)\n",
    "            elif probabilitatea <= 10:\n",
    "                return r.randint(180, 190)\n",
    "    elif sexua == \"Emakumea\":\n",
    "        if adin_tartea == \"Nerabea\":\n",
    "            if probabilitatea <= 2:\n",
    "                return r.randint(145, 155)\n",
    "            elif probabilitatea <= 8:\n",
    "                return r.randint(155, 165)\n",
    "            elif probabilitatea <= 10:\n",
    "                return r.randint(165, 170)\n",
    "        elif adin_tartea == \"Gaztea\":\n",
    "            if probabilitatea <= 2:\n",
    "                return r.randint(150, 160)\n",
    "            elif probabilitatea <= 8:\n",
    "                return r.randint(160, 170)\n",
    "            elif probabilitatea <= 10:\n",
    "                return r.randint(170, 180)\n",
    "        elif adin_tartea == \"Heldua\":\n",
    "            if probabilitatea <= 2:\n",
    "                return r.randint(150, 160)\n",
    "            elif probabilitatea <= 8:\n",
    "                return r.randint(160, 165)\n",
    "            elif probabilitatea <= 10:\n",
    "                return r.randint(165, 175)\n",
    "            \n",
    "adina = Altuera(sexua, adin_tartea)"
   ]
  },
  {
   "cell_type": "code",
   "execution_count": 346,
   "id": "1d8b204c-4ea2-48e6-8924-6c69eef63ce9",
   "metadata": {
    "tags": []
   },
   "outputs": [],
   "source": [
    "def Masa(sexua, adin_tartea):\n",
    "    probabilitatea = r.randint(1, 10)\n",
    "    if sexua == \"Gizona\":\n",
    "        if adin_tartea == \"Nerabea\":\n",
    "            if probabilitatea <= 3:\n",
    "                return r.uniform(50, 60)\n",
    "            elif probabilitatea <= 8:\n",
    "                return r.uniform(60, 70)\n",
    "            else:\n",
    "                return r.uniform(70, 80)\n",
    "        elif adin_tartea == \"Gaztea\":\n",
    "            if probabilitatea <= 3:\n",
    "                return r.uniform(60, 70)\n",
    "            elif probabilitatea <= 8:\n",
    "                return r.uniform(70, 80)\n",
    "            else:\n",
    "                return r.uniform(80, 90)\n",
    "        elif adin_tartea == \"Heldua\":\n",
    "            if probabilitatea <= 3:\n",
    "                return r.uniform(70, 80)\n",
    "            elif probabilitatea <= 8:\n",
    "                return r.uniform(75, 85)\n",
    "            else:\n",
    "                return r.uniform(80, 90)\n",
    "    elif sexua == \"Emakumea\":\n",
    "        if adin_tartea == \"Nerabea\":\n",
    "            if probabilitatea <= 3:\n",
    "                return r.uniform(45, 55)\n",
    "            elif probabilitatea <= 8:\n",
    "                return r.uniform(55, 65)\n",
    "            else:\n",
    "                return r.uniform(65, 75)\n",
    "        elif adin_tartea == \"Gaztea\":\n",
    "            if probabilitatea <= 3:\n",
    "                return r.uniform(55, 65)\n",
    "            elif probabilitatea <= 8:\n",
    "                return r.uniform(65, 75)\n",
    "            else:\n",
    "                return r.uniform(75, 85)\n",
    "        elif adin_tartea == \"Heldua\":\n",
    "            if probabilitatea <= 3:\n",
    "                return r.uniform(65, 75)\n",
    "            elif probabilitatea <= 8:\n",
    "                return r.uniform(70, 80)\n",
    "            else:\n",
    "                return r.uniform(75, 85)\n",
    "            \n",
    "masa = Masa(sexua, adin_tartea)"
   ]
  },
  {
   "cell_type": "code",
   "execution_count": 363,
   "id": "6192ce76-42db-4dde-be17-a1b283433bab",
   "metadata": {
    "tags": []
   },
   "outputs": [],
   "source": [
    "mailak = [\"Hasiberria\", \"Erdikoa\", \"Aurreratua\", \"Profesionala\", \"Elitea\"]\n",
    "def Maila(sexua, eskarmentua):\n",
    "    probabilitatea = r.randint(1, 100)\n",
    "    if sexua == \"Gizona\":\n",
    "        if eskarmentua >= 11:\n",
    "            if probabilitatea <= 1:\n",
    "                return \"Elitea\"\n",
    "            elif probabilitatea <= 4:\n",
    "                return \"Profesionala\"\n",
    "            elif probabilitatea <= 10:\n",
    "                return \"Aurreratua\"\n",
    "            else:\n",
    "                return \"Erdikoa\"\n",
    "        elif eskarmentua >= 6:\n",
    "            if probabilitatea <= 3:\n",
    "                return \"Profesionala\"\n",
    "            elif probabilitatea <= 18:\n",
    "                return \"Aurreratua\"\n",
    "            else:\n",
    "                return \"Erdikoa\"\n",
    "        elif eskarmentua >= 2:\n",
    "            if probabilitatea <= 5:\n",
    "                return \"Erdikoa\"\n",
    "            elif probabilitatea <= 25:\n",
    "                return \"Aurreratua\"\n",
    "            else:\n",
    "                return \"Hasiberria\"\n",
    "        else:\n",
    "            if probabilitatea <= 5:\n",
    "                return \"Hasiberria\"\n",
    "            elif probabilitatea <= 25:\n",
    "                return \"Aurreratua\"\n",
    "            else:\n",
    "                return \"Erdikoa\"\n",
    "    \n",
    "    elif sexua == \"Emakumea\":\n",
    "        if eskarmentua >= 11:\n",
    "            if probabilitatea <= 5:\n",
    "                return \"Elitea\"\n",
    "            elif probabilitatea <= 15:\n",
    "                return \"Profesionala\"\n",
    "            elif probabilitatea <= 35:\n",
    "                return \"Aurreratua\"\n",
    "            else:\n",
    "                return \"Erdikoa\"\n",
    "        elif eskarmentua >= 6:\n",
    "            if probabilitatea <= 10:\n",
    "                return \"Profesionala\"\n",
    "            elif probabilitatea <= 25:\n",
    "                return \"Aurreratua\"\n",
    "            else:\n",
    "                return \"Erdikoa\"\n",
    "        elif eskarmentua >= 2:\n",
    "            if probabilitatea <= 15:\n",
    "                return \"Erdikoa\"\n",
    "            elif probabilitatea <= 35:\n",
    "                return \"Aurreratua\"\n",
    "            else:\n",
    "                return \"Hasiberria\"\n",
    "        else:\n",
    "            if probabilitatea <= 15:\n",
    "                return \"Hasiberria\"\n",
    "            elif probabilitatea <= 35:\n",
    "                return \"Aurreratua\"\n",
    "            else:\n",
    "                return \"Erdikoa\"\n",
    "\n",
    "            \n",
    "maila = Maila(sexua, eskarmentua)"
   ]
  },
  {
   "cell_type": "code",
   "execution_count": 368,
   "id": "e29295c0-9913-431c-a9b4-2640bb4058d7",
   "metadata": {
    "tags": []
   },
   "outputs": [],
   "source": [
    "sexua = Sexua()\n",
    "izena = Izena(sexua)\n",
    "abizena = Abizena()\n",
    "adina, adin_tartea = Adina()\n",
    "eskarmentua = Eskarmentua(adina)\n",
    "altuera = Altuera(sexua, adin_tartea)\n",
    "masa = round(Masa(sexua, adin_tartea), 2)\n",
    "maila = Maila(sexua, eskarmentua)"
   ]
  },
  {
   "cell_type": "code",
   "execution_count": 369,
   "id": "6e37d284-db8c-442e-9821-6b293f958d3d",
   "metadata": {
    "tags": []
   },
   "outputs": [
    {
     "name": "stdout",
     "output_type": "stream",
     "text": [
      "ITZIAR IBAÑEZ Emakumea 39 Heldua 1 161 73.97 Profesionala\n"
     ]
    }
   ],
   "source": [
    "print(izena, abizena, sexua, adina, adin_tartea, eskarmentua, altuera, masa, maila)"
   ]
  },
  {
   "cell_type": "code",
   "execution_count": null,
   "id": "a79a8991-9d05-4cff-bcbe-a9402ea24ae9",
   "metadata": {},
   "outputs": [],
   "source": []
  }
 ],
 "metadata": {
  "kernelspec": {
   "display_name": "Python 3 (ipykernel)",
   "language": "python",
   "name": "python3"
  },
  "language_info": {
   "codemirror_mode": {
    "name": "ipython",
    "version": 3
   },
   "file_extension": ".py",
   "mimetype": "text/x-python",
   "name": "python",
   "nbconvert_exporter": "python",
   "pygments_lexer": "ipython3",
   "version": "3.11.5"
  }
 },
 "nbformat": 4,
 "nbformat_minor": 5
}
